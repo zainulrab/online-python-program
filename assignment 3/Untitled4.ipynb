{
 "cells": [
  {
   "cell_type": "code",
   "execution_count": 1,
   "id": "0967b3b8",
   "metadata": {},
   "outputs": [
    {
     "name": "stdout",
     "output_type": "stream",
     "text": [
      "Twinkle, twinkle, little star, \n",
      "\tHow I wonder what you are! \n",
      "\t\tUp above the world so high, \n",
      "\t\tLike a diamond in the sky. \n",
      "Twinkle, twinkle, little star, \n",
      "\tHow I wonder what you are!\n"
     ]
    }
   ],
   "source": [
    "#write a python program to print the string in a specified format.check the ouput.\n",
    "print(\"Twinkle, twinkle, little star, \\n\\tHow I wonder what you are! \\n\\t\\tUp above the world so high, \\n\\t\\tLike a diamond in the sky. \\nTwinkle, twinkle, little star, \\n\\tHow I wonder what you are!\")\n",
    "\n"
   ]
  },
  {
   "cell_type": "code",
   "execution_count": 2,
   "id": "24b74d4b",
   "metadata": {},
   "outputs": [
    {
     "name": "stdout",
     "output_type": "stream",
     "text": [
      "python version\n",
      "3.8.8 (default, Apr 13 2021, 15:08:03) [MSC v.1916 64 bit (AMD64)]\n",
      "version info\n",
      "sys.version_info(major=3, minor=8, micro=8, releaselevel='final', serial=0)\n"
     ]
    }
   ],
   "source": [
    "# write a program to get the python version you are using.\n",
    "import sys\n",
    "print(\"python version\")\n",
    "print(sys.version)\n",
    "print(\"version info\")\n",
    "print(sys.version_info)"
   ]
  },
  {
   "cell_type": "code",
   "execution_count": 3,
   "id": "e21fb35f",
   "metadata": {},
   "outputs": [
    {
     "name": "stdout",
     "output_type": "stream",
     "text": [
      "Current date and time : \n",
      "2021-10-24 14:07:13\n"
     ]
    }
   ],
   "source": [
    "#write a program to display current date and time.\n",
    "import datetime\n",
    "now = datetime.datetime.now()\n",
    "print (\"Current date and time : \")\n",
    "print (now.strftime(\"%Y-%m-%d %H:%M:%S\"))"
   ]
  },
  {
   "cell_type": "code",
   "execution_count": 4,
   "id": "3f801992",
   "metadata": {},
   "outputs": [
    {
     "name": "stdout",
     "output_type": "stream",
     "text": [
      "enter radius of circle56\n",
      "area of circle\n",
      "9847.04\n"
     ]
    }
   ],
   "source": [
    "#write a python program which accepts radius from user and compute radius of circle.\n",
    "r = float(input(\"enter radius of circle\"))\n",
    "PI = 3.14\n",
    "area = PI * r * r\n",
    "print(\"area of circle\")\n",
    "print(area)"
   ]
  },
  {
   "cell_type": "code",
   "execution_count": 1,
   "id": "340098d0",
   "metadata": {},
   "outputs": [
    {
     "name": "stdout",
     "output_type": "stream",
     "text": [
      "enter first name: zain ul\n",
      "enter last name: rab\n",
      "rab zain ul\n"
     ]
    }
   ],
   "source": [
    "#write a program which accepts first and last name of user and print it in a reverse order with a space b/w them.\n",
    "F = str(input(\"enter first name: \"))\n",
    "L = str(input(\"enter last name: \"))\n",
    "print(L + \" \" + F)\n"
   ]
  },
  {
   "cell_type": "code",
   "execution_count": 2,
   "id": "32520f86",
   "metadata": {},
   "outputs": [
    {
     "name": "stdout",
     "output_type": "stream",
     "text": [
      "enter a number: 34.5\n",
      "enter a number: 67.9\n",
      "102.4\n"
     ]
    }
   ],
   "source": [
    "#write a program to add two numbers.\n",
    "a = float(input(\"enter a number: \"))\n",
    "b = float(input(\"enter a number: \"))\n",
    "c = a + b\n",
    "print(c)"
   ]
  },
  {
   "cell_type": "raw",
   "id": "24621eff",
   "metadata": {},
   "source": []
  },
  {
   "cell_type": "code",
   "execution_count": 3,
   "id": "3630ab5e",
   "metadata": {},
   "outputs": [
    {
     "name": "stdout",
     "output_type": "stream",
     "text": [
      "enter marks: 56\n",
      "enter marks: 89\n",
      "enter marks: 90\n",
      "enter marks: 75.5\n",
      "enter marks: 43\n",
      "Percentage = 70.7 %\n",
      "Grade = A\n"
     ]
    }
   ],
   "source": [
    "#write a program which takes 5 inputs from user for differnet subject marks and generate a marksheet using grades.\n",
    "maths = float(input(\"enter marks: \"))\n",
    "chemistry = float(input(\"enter marks: \"))\n",
    "urdu = float(input(\"enter marks: \"))\n",
    "english = float(input(\"enter marks: \"))\n",
    "islamiat = float(input(\"enter marks: \"))\n",
    "obtained_marks = maths + english + islamiat + chemistry + urdu\n",
    "total_marks = 500\n",
    "p=obtained_marks/total_marks*100\n",
    "if(p<33) : g=(\"Fail\")\n",
    "if(33<=p<40) : g=(\"E\")   \n",
    "if(40<=p<50) : g=(\"D\")\n",
    "if(50<=p<60) : g=(\"C\")\n",
    "if(60<=p<70) : g=(\"B\")\n",
    "if(70<=p<80) : g=(\"A\")\n",
    "if(80<=p<=100) : g=(\"A+\")\n",
    "print (\"Percentage =\",p,\"%\")\n",
    "print (\"Grade =\",g)\n"
   ]
  },
  {
   "cell_type": "code",
   "execution_count": 4,
   "id": "e8c22265",
   "metadata": {},
   "outputs": [
    {
     "name": "stdout",
     "output_type": "stream",
     "text": [
      "ENTER ANY NUMBER57\n",
      "ODD NUMBER\n"
     ]
    }
   ],
   "source": [
    "#write a program to check odd and even number.\n",
    "num=int(input(\"ENTER ANY NUMBER\"))\n",
    "r=num%2\n",
    "if (r==0):\n",
    "    print (\"EVEN NUMBER\")\n",
    "else:\n",
    "    print (\"ODD NUMBER\")"
   ]
  },
  {
   "cell_type": "code",
   "execution_count": 5,
   "id": "1c9c4e7e",
   "metadata": {},
   "outputs": [
    {
     "ename": "SyntaxError",
     "evalue": "invalid syntax (<ipython-input-5-56fb1e7a9611>, line 2)",
     "output_type": "error",
     "traceback": [
      "\u001b[1;36m  File \u001b[1;32m\"<ipython-input-5-56fb1e7a9611>\"\u001b[1;36m, line \u001b[1;32m2\u001b[0m\n\u001b[1;33m    a =[1 1 2 3 5 8 13 21 34 55 89]\u001b[0m\n\u001b[1;37m          ^\u001b[0m\n\u001b[1;31mSyntaxError\u001b[0m\u001b[1;31m:\u001b[0m invalid syntax\n"
     ]
    }
   ],
   "source": [
    "#Write a program to print the length of list.\n",
    "a =[1 1 2 3 5 8 13 21 34 55 89]\n",
    "print(len(a))\n"
   ]
  },
  {
   "cell_type": "code",
   "execution_count": 6,
   "id": "1561e66e",
   "metadata": {},
   "outputs": [
    {
     "name": "stdout",
     "output_type": "stream",
     "text": [
      "11\n"
     ]
    }
   ],
   "source": [
    "#Write a program to print the length of list.\n",
    "a =[1, 1, 2, 3, 5, 8, 13, 21, 34, 55, 89]\n",
    "print(len(a))"
   ]
  },
  {
   "cell_type": "code",
   "execution_count": 12,
   "id": "47e1d7d2",
   "metadata": {},
   "outputs": [
    {
     "ename": "SyntaxError",
     "evalue": "'return' outside function (<ipython-input-12-e26e84ac53b1>, line 7)",
     "output_type": "error",
     "traceback": [
      "\u001b[1;36m  File \u001b[1;32m\"<ipython-input-12-e26e84ac53b1>\"\u001b[1;36m, line \u001b[1;32m7\u001b[0m\n\u001b[1;33m    return total\u001b[0m\n\u001b[1;37m    ^\u001b[0m\n\u001b[1;31mSyntaxError\u001b[0m\u001b[1;31m:\u001b[0m 'return' outside function\n"
     ]
    }
   ],
   "source": [
    "#write a python program to sum all numeric items in a list.\n",
    "a =[1, 1, 2, 3, 5, 8, 13, 21, 34, 55, 89]\n",
    "total = 0\n",
    "for i in a:\n",
    "        total += i\n",
    "\n",
    "        return total\n",
    "\n",
    "\n"
   ]
  },
  {
   "cell_type": "code",
   "execution_count": 13,
   "id": "4f089e79",
   "metadata": {},
   "outputs": [
    {
     "name": "stdout",
     "output_type": "stream",
     "text": [
      "232\n"
     ]
    }
   ],
   "source": [
    "#write a python program to sum all numeric items in a list.\n",
    "a =[1, 1, 2, 3, 5, 8, 13, 21, 34, 55, 89]\n",
    "total = 0\n",
    "for i in range(0,len(a)):\n",
    "    total = total + a[i]\n",
    "print (total)"
   ]
  },
  {
   "cell_type": "code",
   "execution_count": 15,
   "id": "4fb0cdda",
   "metadata": {},
   "outputs": [
    {
     "name": "stdout",
     "output_type": "stream",
     "text": [
      "89\n"
     ]
    }
   ],
   "source": [
    "#write a python program to get the largest number in a list.\n",
    "a =[1, 1, 2, 3, 5, 8, 13, 21, 34, 55, 89]\n",
    "max = a[0]\n",
    "for i in a:\n",
    "    if (i > max):\n",
    "        max = i\n",
    "print(max)\n"
   ]
  },
  {
   "cell_type": "code",
   "execution_count": 17,
   "id": "7e77642f",
   "metadata": {},
   "outputs": [
    {
     "name": "stdout",
     "output_type": "stream",
     "text": [
      "[1, 1, 2, 3]\n"
     ]
    }
   ],
   "source": [
    "#write a program to print all the numbers less than 5 in a list.\n",
    "a =[1, 1, 2, 3, 5, 8, 13, 21, 34, 55, 89]\n",
    "numbers_less_than_5 = []\n",
    "for i in a:\n",
    "    if (i < 5):\n",
    "        numbers_less_than_5.append(i)\n",
    "print(numbers_less_than_5)\n",
    "\n"
   ]
  },
  {
   "cell_type": "code",
   "execution_count": null,
   "id": "7ac52066",
   "metadata": {},
   "outputs": [],
   "source": []
  }
 ],
 "metadata": {
  "kernelspec": {
   "display_name": "Python 3",
   "language": "python",
   "name": "python3"
  },
  "language_info": {
   "codemirror_mode": {
    "name": "ipython",
    "version": 3
   },
   "file_extension": ".py",
   "mimetype": "text/x-python",
   "name": "python",
   "nbconvert_exporter": "python",
   "pygments_lexer": "ipython3",
   "version": "3.8.8"
  }
 },
 "nbformat": 4,
 "nbformat_minor": 5
}
